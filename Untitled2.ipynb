{
  "cells": [
    {
      "cell_type": "markdown",
      "metadata": {
        "id": "Fhz-j1DTSSQu"
      },
      "source": [
        "# GET Request"
      ]
    },
    {
      "cell_type": "markdown",
      "metadata": {
        "id": "2qza6tk_SfmX"
      },
      "source": [
        "Installation"
      ]
    },
    {
      "cell_type": "code",
      "execution_count": null,
      "metadata": {
        "id": "fGYjENr1SOA4"
      },
      "outputs": [],
      "source": [
        "pip install requests\n"
      ]
    },
    {
      "cell_type": "markdown",
      "metadata": {
        "id": "AYW_Dk0sSks_"
      },
      "source": [
        "Requête GET"
      ]
    },
    {
      "cell_type": "code",
      "execution_count": null,
      "metadata": {
        "id": "uCNfdWCmSpiz"
      },
      "outputs": [],
      "source": [
        "import requests\n",
        "url = \"https://www.example.com\"\n",
        "response = requests.get(url)\n"
      ]
    },
    {
      "cell_type": "markdown",
      "metadata": {
        "id": "egfQxnuQSuEw"
      },
      "source": [
        "Pour afficher le résultat, ajoutez :"
      ]
    },
    {
      "cell_type": "code",
      "execution_count": null,
      "metadata": {
        "id": "eG8o1gHsS0Rl"
      },
      "outputs": [],
      "source": [
        "print(response)\n"
      ]
    },
    {
      "cell_type": "markdown",
      "metadata": {
        "id": "lN1cxjUhS2Rd"
      },
      "source": [
        "Codes d'état HTTP"
      ]
    },
    {
      "cell_type": "markdown",
      "metadata": {
        "id": "uB2IALpWS_31"
      },
      "source": [
        "2XX : Succès\n",
        "\n",
        "3XX : Redirection\n",
        "\n",
        "4XX : Erreur côté client\n",
        "\n",
        "5XX : Erreur côté serveur"
      ]
    },
    {
      "cell_type": "markdown",
      "metadata": {
        "id": "BK-6n-MHTDNn"
      },
      "source": [
        "Pour obtenir l’attribut de code d’état de l’objet de réponse :"
      ]
    },
    {
      "cell_type": "code",
      "execution_count": null,
      "metadata": {
        "id": "lH9FP5WPTHkQ"
      },
      "outputs": [],
      "source": [
        "print(response.status_code)"
      ]
    },
    {
      "cell_type": "markdown",
      "metadata": {
        "id": "dRfKjbkiTMg5"
      },
      "source": [
        "# Request Content"
      ]
    },
    {
      "cell_type": "markdown",
      "metadata": {
        "id": "yM-V2Mg3TRnQ"
      },
      "source": [
        "afficher le contenu"
      ]
    },
    {
      "cell_type": "code",
      "execution_count": null,
      "metadata": {
        "id": "Dh4QY03fT6xS"
      },
      "outputs": [],
      "source": [
        "import requests\n",
        "\n",
        "response = requests.get(\"https://www.example.com\")\n",
        "print(repsonse.content)"
      ]
    },
    {
      "cell_type": "markdown",
      "metadata": {
        "id": "OE3hWevoUAK4"
      },
      "source": [
        "# POST Request"
      ]
    },
    {
      "cell_type": "code",
      "execution_count": null,
      "metadata": {
        "id": "IxBtX9dhUMyP"
      },
      "outputs": [],
      "source": [
        "data = {\"name\": \"Salah\", \"message\": \"Hello!\"}\n",
        "url = \"https://httpbin.org/post\"\n",
        "\n",
        "response = requests.post(url, json=data)"
      ]
    },
    {
      "cell_type": "markdown",
      "metadata": {
        "id": "Z33EhSWaURia"
      },
      "source": [
        "Pour afficher les données"
      ]
    },
    {
      "cell_type": "code",
      "execution_count": null,
      "metadata": {
        "id": "VwGhTx_zUZRd"
      },
      "outputs": [],
      "source": [
        "response_data = response.json()\n",
        "# Shows the data as a dictionary\n",
        "print(response_data)"
      ]
    },
    {
      "cell_type": "markdown",
      "metadata": {
        "id": "I_IORebQUh2y"
      },
      "source": [
        "# Gestion des erreurs"
      ]
    },
    {
      "cell_type": "markdown",
      "metadata": {
        "id": "F6TW4y-UUlyh"
      },
      "source": [
        "Pour vérifier les codes d’erreur à l’aide du code d’état :"
      ]
    },
    {
      "cell_type": "code",
      "execution_count": null,
      "metadata": {
        "id": "pHcXbGZ7Uo8t"
      },
      "outputs": [],
      "source": [
        "import requests\n",
        "\n",
        "# here we use an endpoint that always gives a 404 status error\n",
        "response = requests.get(\"https://httpbin.org/status/404\")\n",
        "# if status code is not 200 (successful response), then show error message\n",
        "if response.status_code != 200:\n",
        "    print(f\"HTTP Error: {response.status_code}\")"
      ]
    },
    {
      "cell_type": "markdown",
      "metadata": {
        "id": "RNr-TGOXUxBJ"
      },
      "source": [
        "# Définir un délai d'attente"
      ]
    },
    {
      "cell_type": "code",
      "execution_count": null,
      "metadata": {
        "id": "WgvrEF29Uy2s"
      },
      "outputs": [],
      "source": [
        "url = \"https://httpbin.org/delay/10\"\n",
        "\n",
        "try:\n",
        "    response = requests.get(url, timeout=5)\n",
        "except requests.exceptions.Timeout as err:\n",
        "    print(err)"
      ]
    },
    {
      "cell_type": "markdown",
      "metadata": {
        "id": "IKOQQuRTVBDo"
      },
      "source": [
        "# En-têtes de requête HTTP"
      ]
    },
    {
      "cell_type": "code",
      "execution_count": null,
      "metadata": {
        "id": "ofQOJ7cvVDDo"
      },
      "outputs": [],
      "source": [
        "auth_token = \"XXXXXXXX\"\n",
        "\n",
        "# here we set the authorization header with the 'bearer token' for authentication purposes.\n",
        "headers = {\n",
        "    \"Authorization\": f\"Bearer {auth_token}\"\n",
        "}\n",
        "\n",
        "url = \"https://httpbin.org/headers\"\n",
        "response = requests.get(url, headers=headers)\n",
        "print(response.json())"
      ]
    },
    {
      "cell_type": "markdown",
      "metadata": {
        "id": "4zhMnBuAVRB3"
      },
      "source": [
        "# Web Scraping avec BeautifulSoup"
      ]
    },
    {
      "cell_type": "code",
      "execution_count": null,
      "metadata": {
        "id": "kC1c-FNYVZaR"
      },
      "outputs": [],
      "source": [
        "import requests\n",
        "\n",
        "url = \"https://www.example.com\"\n",
        "# this will get all the HTML, javascript, css code\n",
        "response = requests.get(url)"
      ]
    },
    {
      "cell_type": "markdown",
      "metadata": {
        "id": "ihmNqpuuVkVW"
      },
      "source": [
        "Installe la bibliothèque beautifulsoup4."
      ]
    },
    {
      "cell_type": "code",
      "execution_count": null,
      "metadata": {
        "id": "E_meMJOIVpYq"
      },
      "outputs": [],
      "source": [
        "pip install beautifulsoup4\n"
      ]
    },
    {
      "cell_type": "markdown",
      "metadata": {
        "id": "4-FbJsSpVrwX"
      },
      "source": [
        " récupérer le contenu HTML"
      ]
    },
    {
      "cell_type": "code",
      "execution_count": null,
      "metadata": {
        "id": "8IEnFp0JV2vL"
      },
      "outputs": [],
      "source": [
        "import requests\n",
        "from bs4 import BeautifulSoup\n",
        "\n",
        "url = \"https://www.example.com\"\n",
        "response = requests.get(url)\n",
        "soup = BeautifulSoup(response.content, \"html.parser\")"
      ]
    },
    {
      "cell_type": "markdown",
      "metadata": {
        "id": "P0uy8lzrV-gW"
      },
      "source": [
        "obtenir le titre, le contenu de la page et les liens disponibles sur la page :"
      ]
    },
    {
      "cell_type": "code",
      "execution_count": null,
      "metadata": {
        "id": "Cc2nqEqiWClF"
      },
      "outputs": [],
      "source": [
        "title = soup.title.text\n",
        "content = soup.find(\"p\").text\n",
        "links = [a[\"href\"] for a in soup.find_all(\"a\")]\n",
        "\n",
        "print(title, content, links)"
      ]
    },
    {
      "cell_type": "markdown",
      "metadata": {
        "id": "GCv8wun3WK7p"
      },
      "source": [
        "#Requêtes vs urllib"
      ]
    },
    {
      "cell_type": "markdown",
      "metadata": {
        "id": "10UJcxnnWTwf"
      },
      "source": [
        "Avec urllib (moins simple que requests)"
      ]
    },
    {
      "cell_type": "code",
      "execution_count": null,
      "metadata": {
        "id": "RMty2mCdWWWW"
      },
      "outputs": [],
      "source": [
        "import urllib.request\n",
        "import urllib.parse\n",
        "\n",
        "data = urllib.parse.urlencode({\"key\"; \"value\"}).encode(\"utf-8\")\n",
        "req = urllib.request.Request(\"https://www.example.com\", data=data, method=\"post\")\n",
        "with urllib.request.urlopen(req) as response:\n",
        "    html = response.read().decode(\"utf-8\")\n",
        "print(html)"
      ]
    }
  ],
  "metadata": {
    "colab": {
      "provenance": []
    },
    "kernelspec": {
      "display_name": "Python 3",
      "name": "python3"
    },
    "language_info": {
      "name": "python"
    }
  },
  "nbformat": 4,
  "nbformat_minor": 0
}
