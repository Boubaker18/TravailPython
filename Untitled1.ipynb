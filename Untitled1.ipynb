{
  "cells": [
    {
      "cell_type": "markdown",
      "metadata": {
        "id": "klQHmvCFLFB9"
      },
      "source": [
        "## Typage dynamique vs Typage statique"
      ]
    },
    {
      "cell_type": "code",
      "execution_count": null,
      "metadata": {
        "id": "YuvmfU62L8qT"
      },
      "outputs": [],
      "source": [
        "x =10 (Python)\n",
        "int x = 10 (Java)"
      ]
    },
    {
      "cell_type": "markdown",
      "metadata": {
        "id": "cMFmuxgPMLqF"
      },
      "source": [
        "## Exemple de problème avec typage dynamique"
      ]
    },
    {
      "cell_type": "code",
      "execution_count": null,
      "metadata": {
        "id": "ivoKuVynM91g"
      },
      "outputs": [],
      "source": [
        "ali = Person(\"Ali\", 24)     # Correct\n",
        "ali = Person(\"Ali\", \"24\")   # Erreur (age en str)\n"
      ]
    },
    {
      "cell_type": "markdown",
      "metadata": {
        "id": "CoMOh9APNI6q"
      },
      "source": [
        "## Solutions proposées par Python"
      ]
    },
    {
      "cell_type": "markdown",
      "metadata": {
        "id": "Fv3So8LuNND1"
      },
      "source": [
        "# @dataclass"
      ]
    },
    {
      "cell_type": "code",
      "execution_count": null,
      "metadata": {
        "id": "IItHtg2bNW5t"
      },
      "outputs": [],
      "source": [
        "from dataclasses import dataclass\n",
        "\n",
        "@dataclass\n",
        "class Person:\n",
        "    name: str\n",
        "    age: str\n"
      ]
    },
    {
      "cell_type": "markdown",
      "metadata": {
        "id": "J05CbclpNwfJ"
      },
      "source": [
        "# Pydantic"
      ]
    },
    {
      "cell_type": "markdown",
      "metadata": {
        "id": "Hr7dVVmeN1rD"
      },
      "source": [
        "Comment utiliser Pydantic"
      ]
    },
    {
      "cell_type": "markdown",
      "metadata": {
        "id": "DlPAG0QlN6Ba"
      },
      "source": [
        "Installation :"
      ]
    },
    {
      "cell_type": "code",
      "execution_count": null,
      "metadata": {
        "id": "E6BkO89kN_Ky"
      },
      "outputs": [],
      "source": [
        "pip install pydantic\n"
      ]
    },
    {
      "cell_type": "markdown",
      "metadata": {
        "id": "IXraMPghOEkd"
      },
      "source": [
        "Créer un modèle Pydantic"
      ]
    },
    {
      "cell_type": "code",
      "execution_count": null,
      "metadata": {
        "id": "cOl-tngHOIiG"
      },
      "outputs": [],
      "source": [
        "from pydantic import BaseModel\n",
        "\n",
        "class User(BaseModel):\n",
        "    name: str\n",
        "    email: str\n",
        "    account_id: int\n"
      ]
    },
    {
      "cell_type": "markdown",
      "metadata": {
        "id": "JHnX3W30OOZD"
      },
      "source": [
        "Créer une instance"
      ]
    },
    {
      "cell_type": "code",
      "execution_count": null,
      "metadata": {
        "id": "w_ERyLSMOQbK"
      },
      "outputs": [],
      "source": [
        "user = User(name=\"Salah\", email=\"salah@gmail.com\", account_id=12345)\n"
      ]
    },
    {
      "cell_type": "markdown",
      "metadata": {
        "id": "IRc4L0nvOTY_"
      },
      "source": [
        " Créer à partir d’un dictionnaire"
      ]
    },
    {
      "cell_type": "code",
      "execution_count": null,
      "metadata": {
        "id": "xY5Ep8zlOZZm"
      },
      "outputs": [],
      "source": [
        "user_data = {\n",
        "    'name': 'Salah',\n",
        "    'email': 'salah@gmail.com',\n",
        "    'account_id': 12345\n",
        "}\n",
        "\n",
        "user = User(**user_data)\n"
      ]
    },
    {
      "cell_type": "markdown",
      "metadata": {
        "id": "TrS8-9JBOmD_"
      },
      "source": [
        "Si les données que vous avez transmises sont valides, l' userobjet sera créé avec succès :"
      ]
    },
    {
      "cell_type": "code",
      "execution_count": null,
      "metadata": {
        "id": "rHl13NefOnMd"
      },
      "outputs": [],
      "source": [
        "print(user.name)    # Salah\n",
        "print(user.name)    # salah@gmail.com\n",
        "print(user.name)    # 12345"
      ]
    },
    {
      "cell_type": "markdown",
      "metadata": {
        "id": "sTFb_gbhO8-n"
      },
      "source": [
        "EmailStr pour valider les emails"
      ]
    },
    {
      "cell_type": "code",
      "execution_count": null,
      "metadata": {
        "id": "MqCecNcXO-Oi"
      },
      "outputs": [],
      "source": [
        "from pydantic import EmailStr\n",
        "\n",
        "email: EmailStr\n"
      ]
    },
    {
      "cell_type": "markdown",
      "metadata": {
        "id": "MHWCjduBPAPa"
      },
      "source": [
        "# Validation des données avec Pydantic"
      ]
    },
    {
      "cell_type": "markdown",
      "metadata": {
        "id": "sJoEIP0YPNdb"
      },
      "source": [
        "essayez de créer un utilisateur avec un account_id"
      ]
    },
    {
      "cell_type": "code",
      "execution_count": null,
      "metadata": {
        "id": "kOTzt45GPcW7"
      },
      "outputs": [],
      "source": [
        "from pydantic import BaseModel\n",
        "\n",
        "class User(BaseModel):\n",
        "    name: str\n",
        "    email: str\n",
        "    account_id: int\n",
        "\n",
        "# It will fail and show a validation error\n",
        "user = User(name = 'Ali', email = 'ali@gmailcom', account_id = 'hello')\n",
        "print(user)"
      ]
    },
    {
      "cell_type": "markdown",
      "metadata": {
        "id": "MhZFdGYxPfkz"
      },
      "source": [
        "importons EmailStr depuis pydantic et changez le type d'e-mail en EmailStr"
      ]
    },
    {
      "cell_type": "code",
      "execution_count": null,
      "metadata": {
        "id": "7S39EStaPoiI"
      },
      "outputs": [],
      "source": [
        "from pydantic import BaseModel, EmailStr\n",
        "\n",
        "class User(BaseModel):\n",
        "    name: str\n",
        "    email: EmailStr     # pip install pydantic[email]\n",
        "    account_id: int\n",
        "\n",
        "# It will fail and show a validation error with email = 'ali'\n",
        "user = User(name = 'Ali', email = 'ali', account_id = 1234)\n",
        "print(user)"
      ]
    },
    {
      "cell_type": "markdown",
      "metadata": {
        "id": "J6jNjljpP06K"
      },
      "source": [
        "# Validation des champs personnalisés"
      ]
    },
    {
      "cell_type": "code",
      "execution_count": null,
      "metadata": {
        "id": "VTJ1R-fyP36k"
      },
      "outputs": [],
      "source": [
        "@field_validator(\"account_id\")\n",
        "def validate_account_id(cls, value):\n",
        "    if value <= 0:\n",
        "        raise ValueError(f\"account_id must be positive: {value}\")\n",
        "    return value"
      ]
    },
    {
      "cell_type": "markdown",
      "metadata": {
        "id": "fLeero7tP6ei"
      },
      "source": [
        "Si vous exécutez l'exemple avec un account_id négatif , vous obtiendrez une erreur de validation :"
      ]
    },
    {
      "cell_type": "code",
      "execution_count": null,
      "metadata": {
        "id": "Zg-fsLV1P-xS"
      },
      "outputs": [],
      "source": [
        "# you will get a validation error with account_id = -12\n",
        "user = User(name = 'Ali', email = 'ali', account_id = -12)\n",
        "print(user)"
      ]
    },
    {
      "cell_type": "markdown",
      "metadata": {
        "id": "LQHSD5nEQMu2"
      },
      "source": [
        "# Sérialisation JSON"
      ]
    },
    {
      "cell_type": "markdown",
      "metadata": {
        "id": "Vj2X3hXGQrTm"
      },
      "source": [
        "Convertir un modèle Pydantic en JSON"
      ]
    },
    {
      "cell_type": "code",
      "execution_count": null,
      "metadata": {
        "id": "78Fv62KwQtoP"
      },
      "outputs": [],
      "source": [
        "user_json_str = user.model_dump_json()\n",
        "# this will return a JSON strinf representation of the model's data\n",
        "print(user_json_str)"
      ]
    },
    {
      "cell_type": "markdown",
      "metadata": {
        "id": "2I51cYHTQxAu"
      },
      "source": [
        "un objet de dictionnaire Python simple"
      ]
    },
    {
      "cell_type": "code",
      "execution_count": null,
      "metadata": {
        "id": "tiQeOFCxQ2tC"
      },
      "outputs": [],
      "source": [
        "user_json_obj = user.model_dump()"
      ]
    },
    {
      "cell_type": "markdown",
      "metadata": {
        "id": "xVWXPFbbQ47e"
      },
      "source": [
        "Si vous avez une chaîne JSON que vous souhaitez reconvertir en modèle Pydantic"
      ]
    },
    {
      "cell_type": "code",
      "execution_count": null,
      "metadata": {
        "id": "tn94NUG_Q-i9"
      },
      "outputs": [],
      "source": [
        "json_str = {\"name\": \"Ali, \"email\": \"ali@gmail.com\", \"account_id\": 1234}\n",
        "user = user.parse_raw(json_str)"
      ]
    }
  ],
  "metadata": {
    "colab": {
      "provenance": []
    },
    "kernelspec": {
      "display_name": "Python 3",
      "name": "python3"
    },
    "language_info": {
      "name": "python"
    }
  },
  "nbformat": 4,
  "nbformat_minor": 0
}
