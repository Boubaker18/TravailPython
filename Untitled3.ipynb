{
  "nbformat": 4,
  "nbformat_minor": 0,
  "metadata": {
    "colab": {
      "provenance": []
    },
    "kernelspec": {
      "name": "python3",
      "display_name": "Python 3"
    },
    "language_info": {
      "name": "python"
    }
  },
  "cells": [
    {
      "cell_type": "markdown",
      "source": [
        "# Installer et démarrer avec FastAPI"
      ],
      "metadata": {
        "id": "auG5EaGwXlif"
      }
    },
    {
      "cell_type": "code",
      "execution_count": null,
      "metadata": {
        "id": "2qzBH7w3Xkc5"
      },
      "outputs": [],
      "source": [
        "pip install fastapi uvicorn"
      ]
    },
    {
      "cell_type": "markdown",
      "source": [
        "Créer un fichier main.py"
      ],
      "metadata": {
        "id": "aJ6Es8i0XyIe"
      }
    },
    {
      "cell_type": "code",
      "source": [
        "from fastapi import FastAPI\n",
        "\n",
        "# Create an app\n",
        "app = FastAPI()\n",
        "\n",
        "# define a path for HTTP Get method\n",
        "@app.get(\"/\")\n",
        "def root():\n",
        "    return {\"Hello\": \"World\"}"
      ],
      "metadata": {
        "id": "YpXGFjsqX1oO"
      },
      "execution_count": null,
      "outputs": []
    },
    {
      "cell_type": "markdown",
      "source": [
        "Lancer le serveur"
      ],
      "metadata": {
        "id": "Xf_dEcTrX-fg"
      }
    },
    {
      "cell_type": "code",
      "source": [
        "uvicorn main:app --reload"
      ],
      "metadata": {
        "id": "lvWsKRGmYB6f"
      },
      "execution_count": null,
      "outputs": []
    },
    {
      "cell_type": "markdown",
      "source": [
        "# Routes GET et POST"
      ],
      "metadata": {
        "id": "HaOy_d5yYK3_"
      }
    },
    {
      "cell_type": "markdown",
      "source": [
        "Ajouter une liste d’éléments"
      ],
      "metadata": {
        "id": "jeEMY3aaYO3h"
      }
    },
    {
      "cell_type": "code",
      "source": [
        "items = []\n"
      ],
      "metadata": {
        "id": "XwEIyDfOYRHQ"
      },
      "execution_count": null,
      "outputs": []
    },
    {
      "cell_type": "markdown",
      "source": [
        "créez un nouveau point de terminaison pour notre application (juste après le point de terminaison racine) :"
      ],
      "metadata": {
        "id": "Z27g4Ap9YUri"
      }
    },
    {
      "cell_type": "code",
      "source": [
        "@app.post(\"items\")\n",
        "def create_item(item: str):\n",
        "    items.append(item)\n",
        "    return item"
      ],
      "metadata": {
        "id": "L1m4LdhmYhms"
      },
      "execution_count": null,
      "outputs": []
    },
    {
      "cell_type": "markdown",
      "source": [
        "Tester le point de terminaison"
      ],
      "metadata": {
        "id": "x07_4MScYj03"
      }
    },
    {
      "cell_type": "code",
      "source": [
        "curl -X POST -H \"Content-Type: application/json\" 'http://127.0.0.1:8000/items?item=apple'"
      ],
      "metadata": {
        "id": "jyluo9LHYo4C"
      },
      "execution_count": null,
      "outputs": []
    },
    {
      "cell_type": "markdown",
      "source": [
        "Créez un point de terminaison pour afficher un élément spécifique de la liste"
      ],
      "metadata": {
        "id": "fgUmRVIvYrD6"
      }
    },
    {
      "cell_type": "code",
      "source": [
        "@app.get(\"items/{item_id}\")\n",
        "def get_item(item_id: int) -> str:\n",
        "    item = items[item_id]\n",
        "    return item"
      ],
      "metadata": {
        "id": "rZmYYVNJYyLB"
      },
      "execution_count": null,
      "outputs": []
    },
    {
      "cell_type": "markdown",
      "source": [
        "Pour tester le point de terminaison"
      ],
      "metadata": {
        "id": "qjEjqE0eY43P"
      }
    },
    {
      "cell_type": "code",
      "source": [
        "curl -X GET http://127.0.0.1:8000/items/0"
      ],
      "metadata": {
        "id": "Mk9laI6TY7nm"
      },
      "execution_count": null,
      "outputs": []
    },
    {
      "cell_type": "markdown",
      "source": [
        "Et si on essaie d'obtenir un objet qui n'existe pas ? Revenez au terminal et essayez"
      ],
      "metadata": {
        "id": "_WHTAFKnY-42"
      }
    },
    {
      "cell_type": "code",
      "source": [
        "curl -X GET http://127.0.0.1:8000/items/7"
      ],
      "metadata": {
        "id": "AoXiS-dRZCN4"
      },
      "execution_count": null,
      "outputs": []
    },
    {
      "cell_type": "markdown",
      "source": [
        "# Gestion des erreurs HTTP"
      ],
      "metadata": {
        "id": "kSTFmz0gZLAL"
      }
    },
    {
      "cell_type": "markdown",
      "source": [
        "Pour ce faire, importez HTTPException depuis FastAPI"
      ],
      "metadata": {
        "id": "7kQXDTuXZNEe"
      }
    },
    {
      "cell_type": "code",
      "source": [
        "from fastapi import FastAPI, HTTPException"
      ],
      "metadata": {
        "id": "JO7P_xePZQ1T"
      },
      "execution_count": null,
      "outputs": []
    },
    {
      "cell_type": "markdown",
      "source": [
        "Modifiez ensuite le point de terminaison get_item() pour utiliser leHTTPException"
      ],
      "metadata": {
        "id": "JVYI_4VUZhM5"
      }
    },
    {
      "cell_type": "code",
      "source": [
        "@app.get(\"items/{item_id}\")\n",
        "def get_item(item_id: int) -> str:\n",
        "    if item_id < len(items):\n",
        "        return = items[item_id]\n",
        "    else:\n",
        "        raise HTTPException(status_code=404, detail=f\"Item {item_id} not found\")"
      ],
      "metadata": {
        "id": "eJOe0dESZiKv"
      },
      "execution_count": null,
      "outputs": []
    },
    {
      "cell_type": "markdown",
      "source": [
        "Exécutez à nouveau la même requête"
      ],
      "metadata": {
        "id": "pW3sWqXqZkac"
      }
    },
    {
      "cell_type": "code",
      "source": [
        "curl -X GET http://127.0.0.1:8000/items/7"
      ],
      "metadata": {
        "id": "HXvnYktrZnxr"
      },
      "execution_count": null,
      "outputs": []
    },
    {
      "cell_type": "markdown",
      "source": [
        "Nous obtenons"
      ],
      "metadata": {
        "id": "Y6o1JVruZqEH"
      }
    },
    {
      "cell_type": "code",
      "source": [
        "{\"detail\" : \"Item 7 not found\"}"
      ],
      "metadata": {
        "id": "xz7_V-MiZsYo"
      },
      "execution_count": null,
      "outputs": []
    },
    {
      "cell_type": "markdown",
      "source": [
        "# Paramètres de requête et de chemin JSON"
      ],
      "metadata": {
        "id": "zwq7htRWZ5hr"
      }
    },
    {
      "cell_type": "markdown",
      "source": [
        "Créez un nouveau point de terminaison appelélist_items"
      ],
      "metadata": {
        "id": "z6TOJ5yoZ9L5"
      }
    },
    {
      "cell_type": "code",
      "source": [
        "# this endpoint uses a query parameter 'limit'\n",
        "@app.get(\"/items/\")\n",
        "def list_items(limit: int = 10):\n",
        "    return items[0:limit]"
      ],
      "metadata": {
        "id": "XCDvOT3uaAWZ"
      },
      "execution_count": null,
      "outputs": []
    },
    {
      "cell_type": "markdown",
      "source": [
        "Testez"
      ],
      "metadata": {
        "id": "qeg48dSqaCs4"
      }
    },
    {
      "cell_type": "code",
      "source": [
        "curl -X GET 'http://127.0.0.1:8000/items?limit=3'"
      ],
      "metadata": {
        "id": "m-eq9yWgaFQK"
      },
      "execution_count": null,
      "outputs": []
    },
    {
      "cell_type": "markdown",
      "source": [
        "#Modèles pydantiques"
      ],
      "metadata": {
        "id": "wYrbA_e3aVCQ"
      }
    },
    {
      "cell_type": "markdown",
      "source": [
        "Importez BaseModel depuis Pydantic"
      ],
      "metadata": {
        "id": "39jdT1BVaW6S"
      }
    },
    {
      "cell_type": "code",
      "source": [
        "from pydantic import BaseModel"
      ],
      "metadata": {
        "id": "ObecPbIAacbF"
      },
      "execution_count": null,
      "outputs": []
    },
    {
      "cell_type": "markdown",
      "source": [
        "Ajoutez le code suivant"
      ],
      "metadata": {
        "id": "5KjzonYNbExV"
      }
    },
    {
      "cell_type": "code",
      "source": [
        "from pydantic import BaseModel\n",
        "\n",
        "class Item(BaseModel):\n",
        "    text: str\n",
        "    is_done: bool = False\n"
      ],
      "metadata": {
        "id": "P7h7VkU5bGtT"
      },
      "execution_count": null,
      "outputs": []
    },
    {
      "cell_type": "markdown",
      "source": [
        "Mettez à jour create_item et get_itempour utiliser le modèle Item au lieu de str"
      ],
      "metadata": {
        "id": "-FJeioSjbNo-"
      }
    },
    {
      "cell_type": "code",
      "source": [
        "...\n",
        "def create_item(item: Item):\n",
        "...\n",
        "def get_item(item_id: int) -> Item:"
      ],
      "metadata": {
        "id": "C52ED5ISbTWm"
      },
      "execution_count": null,
      "outputs": []
    },
    {
      "cell_type": "markdown",
      "source": [
        "Testez le point de terminaison create_item"
      ],
      "metadata": {
        "id": "DdKg9AiNbauI"
      }
    },
    {
      "cell_type": "code",
      "source": [
        "curl -X POST -H \"Content-Type: application/json\" -d '{\"text\":\"apple\"}' 'http://127.0.0.1:8000/items'"
      ],
      "metadata": {
        "id": "AJwj1pvDbb3P"
      },
      "execution_count": null,
      "outputs": []
    },
    {
      "cell_type": "markdown",
      "source": [
        "Nous pouvons modifier l' attribut de texte de la classe Item pour qu'il soit obligatoire"
      ],
      "metadata": {
        "id": "VP9rQP4Ibn1w"
      }
    },
    {
      "cell_type": "code",
      "source": [
        "class Item(BaseModel):\n",
        "    # without default value\n",
        "    text: str\n",
        "    is_done: bool = False"
      ],
      "metadata": {
        "id": "17JrvuIFborx"
      },
      "execution_count": null,
      "outputs": []
    },
    {
      "cell_type": "markdown",
      "source": [
        "# Modèles de réponse"
      ],
      "metadata": {
        "id": "VJ90W2_wb0MA"
      }
    },
    {
      "cell_type": "code",
      "source": [
        "...\n",
        "# Specify the response type will be a list of Item\n",
        "@app.get(\"/items\", response_model=list[Item])\n",
        "def list_item(limit: int = 10):\n",
        "...\n",
        "# Specify the response type will be an Item model\n",
        "@app.get(\"/items/{item_id}\", response_model=Item)\n",
        "def get_item(item_id: int) -> Item:"
      ],
      "metadata": {
        "id": "gVx2b6jqb2F4"
      },
      "execution_count": null,
      "outputs": []
    }
  ]
}