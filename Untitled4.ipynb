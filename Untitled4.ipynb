{
  "nbformat": 4,
  "nbformat_minor": 0,
  "metadata": {
    "colab": {
      "provenance": []
    },
    "kernelspec": {
      "name": "python3",
      "display_name": "Python 3"
    },
    "language_info": {
      "name": "python"
    }
  },
  "cells": [
    {
      "cell_type": "markdown",
      "source": [
        "# Qu'est-ce que Streamlit ?"
      ],
      "metadata": {
        "id": "vNXAR4O0dSFP"
      }
    },
    {
      "cell_type": "markdown",
      "source": [
        "**Streamlit :** bibliothèque Python open source pour créer des applications Web interactives, surtout pour l’analyse de données ou le machine learning."
      ],
      "metadata": {
        "id": "OqfiKwTQdW25"
      }
    },
    {
      "cell_type": "markdown",
      "source": [
        " Installation"
      ],
      "metadata": {
        "id": "kfRpkR3sddXP"
      }
    },
    {
      "cell_type": "code",
      "execution_count": null,
      "metadata": {
        "id": "nHvMhLHzdQW0"
      },
      "outputs": [],
      "source": [
        "pip install streamlit"
      ]
    },
    {
      "cell_type": "markdown",
      "source": [
        "Tester"
      ],
      "metadata": {
        "id": "tVIJnxYoduhy"
      }
    },
    {
      "cell_type": "code",
      "source": [
        "import streamlit as st\n",
        "\n",
        "st.write('Hello World')"
      ],
      "metadata": {
        "id": "pHNqAwRSdztz"
      },
      "execution_count": null,
      "outputs": []
    },
    {
      "cell_type": "markdown",
      "source": [
        "Exécuter l'exemple"
      ],
      "metadata": {
        "id": "8KfdwzU7d2Bu"
      }
    },
    {
      "cell_type": "code",
      "source": [
        "streamlit run main.py"
      ],
      "metadata": {
        "id": "lqoMssEnd53j"
      },
      "execution_count": null,
      "outputs": []
    },
    {
      "cell_type": "markdown",
      "source": [
        "Ajoutez une entrée de texte"
      ],
      "metadata": {
        "id": "z-c2QkGkd9zc"
      }
    },
    {
      "cell_type": "code",
      "source": [
        "st.text_input('Favorite Movie?')"
      ],
      "metadata": {
        "id": "TQ0HOYsQeDlq"
      },
      "execution_count": null,
      "outputs": []
    },
    {
      "cell_type": "markdown",
      "source": [
        "# Utilisation des éléments d'entrée"
      ],
      "metadata": {
        "id": "fOOy8XvjeXFF"
      }
    },
    {
      "cell_type": "markdown",
      "source": [
        "Fournit de nombreux éléments d'entrée différents"
      ],
      "metadata": {
        "id": "Ago3t3_xenpL"
      }
    },
    {
      "cell_type": "code",
      "source": [
        "# this capture the return value into x\n",
        "x = st.text_input('Favorite Movie?')\n",
        "\n",
        "st.write(f\"Your favorite movie is: {x}\")"
      ],
      "metadata": {
        "id": "mY6-W_2EeqOk"
      },
      "execution_count": null,
      "outputs": []
    },
    {
      "cell_type": "markdown",
      "source": [
        "Créer : des boutons , des curseurs , des menus déroulants et tout ce que vous pouvez trouver dans une application interactive"
      ],
      "metadata": {
        "id": "8W1hGhKMeuQ3"
      }
    },
    {
      "cell_type": "code",
      "source": [
        "is_clicked = st.button(\"Click Me\")"
      ],
      "metadata": {
        "id": "ktqXqHzhe03e"
      },
      "execution_count": null,
      "outputs": []
    },
    {
      "cell_type": "markdown",
      "source": [
        "Prend en charge le formatage Markdown par défaut."
      ],
      "metadata": {
        "id": "hGFFA8cPfJ4V"
      }
    },
    {
      "cell_type": "code",
      "source": [
        "import streamlit as st\n",
        "\n",
        "st.write(\"## This is a H2 Title!\")\n",
        "\n",
        "st.markdown(\"*Streamlit* is **really** ***cool***.\")\n",
        "st.markdown('''\n",
        "    :red[Streamlit] :orange[can] :green[write] :blue[text] :violet[in]\n",
        "    :gray[pretty] :rainbow[colors] and :blue-background[highlight] text.''')\n",
        "st.markdown(\"Here's a bouquet &mdash;\\\n",
        "            :tulip::cherry_blossom::rose::hibiscus::sunflower::blossom:\")\n",
        "\n",
        "multi = '''If you end a line with two spaces,\n",
        "a soft return is used for the next line.\n",
        "\n",
        "Two (or more) newline characters in a row will result in a hard return.\n",
        "'''\n",
        "st.markdown(multi)"
      ],
      "metadata": {
        "id": "y5qWdjpPfLwo"
      },
      "execution_count": null,
      "outputs": []
    },
    {
      "cell_type": "markdown",
      "source": [
        "# Travailler avec des données"
      ],
      "metadata": {
        "id": "SbCs39SmfSFP"
      }
    },
    {
      "cell_type": "markdown",
      "source": [
        "Si vous avez un fichier CSV que vous souhaitez utiliser dans le cadre de votre application, voici comment procéder"
      ],
      "metadata": {
        "id": "DE4gu7wZfVR1"
      }
    },
    {
      "cell_type": "code",
      "source": [
        "import pandas as pd\n",
        "\n",
        "data = pd.read_csv(\"movies.csv\")\n",
        "# This shows the data in a nice table\n",
        "st.write(data)  # display the data inside the app"
      ],
      "metadata": {
        "id": "LO5lUw0zfZga"
      },
      "execution_count": null,
      "outputs": []
    },
    {
      "cell_type": "markdown",
      "source": [
        "Vous pouvez également afficher vos données dans un graphique"
      ],
      "metadata": {
        "id": "ALvY6Ei9fbrB"
      }
    },
    {
      "cell_type": "code",
      "source": [
        "import numpy as np\n",
        "\n",
        "# Some random generated data\n",
        "chart_data = pd.DataFrame(\n",
        "    np.random.randn(20, 3),\n",
        "    columns=[\"a\", \"b\", \"c\"]\n",
        ")\n",
        "\n",
        "st.bar_chart(chart_data)\n",
        "st.line_chart(chart_data)"
      ],
      "metadata": {
        "id": "cw-7JBW5ffHp"
      },
      "execution_count": null,
      "outputs": []
    },
    {
      "cell_type": "markdown",
      "source": [
        "#Applications multipages"
      ],
      "metadata": {
        "id": "wJ_Qk3C9gEoM"
      }
    },
    {
      "cell_type": "markdown",
      "source": [
        "Il suffit de structurer le projet de manière à créer un répertoire nommé « pages », chaque page étant un fichier à l'intérieur de ce répertoire."
      ],
      "metadata": {
        "id": "jsupRhUEgItg"
      }
    },
    {
      "cell_type": "code",
      "source": [
        "project\n",
        "|___ main.py\n",
        "|___ pages\n",
        "     |___ 1_profile.py\n",
        "     |___ 2_dashboard.py"
      ],
      "metadata": {
        "id": "TQVks1c_gNPs"
      },
      "execution_count": null,
      "outputs": []
    },
    {
      "cell_type": "markdown",
      "source": [
        "# Application de remboursement de prêt"
      ],
      "metadata": {
        "id": "umPd89V4gXMT"
      }
    },
    {
      "cell_type": "code",
      "source": [
        "import streamlit as st\n",
        "import pandas as pd\n",
        "import matplotlib.pyplot as plt\n",
        "import math\n",
        "\n",
        "st.title(\"Mortgage Repayments Calculator\")\n",
        "\n",
        "st.write(\"### Input Data\")\n",
        "col1, col2 = st.columns(2)  # Display elements in 2 column using the column component\n",
        "# Set a default value or minimum/maximum value\n",
        "home_value = col1.number_input(\"Home Value\", min_value=0, value=500000)\n",
        "deposit = col1.number_input(\"Deposit\", min_value=0, value=100000)\n",
        "interest_rate = col2.number_input(\"Interest Rate (in %)\", min_value=0.0, value=5.5)\n",
        "loan_term = col2.number_input(\"Loan Term (in years)\", min_value=1, value=30)\n",
        "\n",
        "# Calculate the repayments.\n",
        "loan_amount = home_value - deposit\n",
        "monthly_interest_rate = (interest_rate / 100) / 12\n",
        "number_of_payments = loan_term * 12\n",
        "monthly_payment = (\n",
        "    loan_amount\n",
        "    * (monthly_interest_rate * (1 + monthly_interest_rate) ** number_of_payments)\n",
        "    / ((1 + monthly_interest_rate) ** number_of_payments - 1)\n",
        ")\n",
        "\n",
        "# Display the repayments.\n",
        "total_payments = monthly_payment * number_of_payments\n",
        "total_interest = total_payments - loan_amount\n",
        "\n",
        "st.write(\"### Repayments\")\n",
        "col1, col2, col3 = st.columns(3)    # Create 3 columns\n",
        "col1.metric(label=\"Monthly Repayments\", value=f\"${monthly_payment:,.2f}\")\n",
        "col2.metric(label=\"Total Repayments\", value=f\"${total_payments:,.0f}\")\n",
        "col3.metric(label=\"Total Interest\", value=f\"${total_interest:,.0f}\")\n",
        "\n",
        "\n",
        "# Create a data-frame with the payment schedule.\n",
        "schedule = []\n",
        "remaining_balance = loan_amount\n",
        "\n",
        "for i in range(1, number_of_payments + 1):\n",
        "    interest_payment = remaining_balance * monthly_interest_rate\n",
        "    principal_payment = monthly_payment - interest_payment\n",
        "    remaining_balance -= principal_payment\n",
        "    year = math.ceil(i / 12)  # Calculate the year into the loan\n",
        "    schedule.append(\n",
        "        [\n",
        "            i,\n",
        "            monthly_payment,\n",
        "            principal_payment,\n",
        "            interest_payment,\n",
        "            remaining_balance,\n",
        "            year,\n",
        "        ]\n",
        "    )\n",
        "\n",
        "df = pd.DataFrame(\n",
        "    schedule,\n",
        "    columns=[\"Month\", \"Payment\", \"Principal\", \"Interest\", \"Remaining Balance\", \"Year\"],\n",
        ")\n",
        "\n",
        "# Display the data-frame as a chart.\n",
        "st.write(\"### Payment Schedule\")\n",
        "payments_df = df[[\"Year\", \"Remaining Balance\"]].groupby(\"Year\").min()\n",
        "st.line_chart(payments_df)"
      ],
      "metadata": {
        "id": "I7a7F3RrgZgT"
      },
      "execution_count": null,
      "outputs": []
    }
  ]
}